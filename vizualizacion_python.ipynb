{
  "nbformat": 4,
  "nbformat_minor": 0,
  "metadata": {
    "colab": {
      "provenance": [],
      "authorship_tag": "ABX9TyO7G+uOLBgKNDnIgbst86FA",
      "include_colab_link": true
    },
    "kernelspec": {
      "name": "python3",
      "display_name": "Python 3"
    },
    "language_info": {
      "name": "python"
    }
  },
  "cells": [
    {
      "cell_type": "markdown",
      "metadata": {
        "id": "view-in-github",
        "colab_type": "text"
      },
      "source": [
        "<a href=\"https://colab.research.google.com/github/duquerson/visualizacion_python/blob/main/vizualizacion_python.ipynb\" target=\"_parent\"><img src=\"https://colab.research.google.com/assets/colab-badge.svg\" alt=\"Open In Colab\"/></a>"
      ]
    },
    {
      "cell_type": "code",
      "execution_count": null,
      "metadata": {
        "id": "VWOmvx_7xiv9"
      },
      "outputs": [],
      "source": [
        "import pandas as pd\n"
      ]
    },
    {
      "cell_type": "code",
      "source": [
        "df = pd.read_csv('inmigrantes_canada.csv')"
      ],
      "metadata": {
        "id": "EGGvN5Fz1Roq"
      },
      "execution_count": null,
      "outputs": []
    },
    {
      "cell_type": "code",
      "source": [
        "df.head()"
      ],
      "metadata": {
        "id": "hB4R_-Ww1Rmj"
      },
      "execution_count": null,
      "outputs": []
    },
    {
      "cell_type": "code",
      "source": [
        "df.shape"
      ],
      "metadata": {
        "id": "2f1Xlyun1RjJ"
      },
      "execution_count": null,
      "outputs": []
    },
    {
      "cell_type": "code",
      "source": [
        "df.info()"
      ],
      "metadata": {
        "id": "ThhqLQM91Rgd"
      },
      "execution_count": null,
      "outputs": []
    },
    {
      "cell_type": "code",
      "source": [
        "df.set_index('Pais', inplace=True)"
      ],
      "metadata": {
        "id": "dUxfIQPT1ReE"
      },
      "execution_count": null,
      "outputs": []
    },
    {
      "cell_type": "code",
      "source": [
        "df"
      ],
      "metadata": {
        "id": "NEQFesgV1Rby"
      },
      "execution_count": null,
      "outputs": []
    },
    {
      "cell_type": "code",
      "source": [
        "anos = list(map(str, range(1980, 2014)))"
      ],
      "metadata": {
        "id": "QliHCvnX1RZM"
      },
      "execution_count": null,
      "outputs": []
    },
    {
      "cell_type": "code",
      "source": [
        "anos"
      ],
      "metadata": {
        "id": "5OmM8sRR1RWs"
      },
      "execution_count": null,
      "outputs": []
    },
    {
      "cell_type": "code",
      "source": [
        "colombia = df.loc['Colombia', anos]"
      ],
      "metadata": {
        "id": "rpVzXefM1RUR"
      },
      "execution_count": null,
      "outputs": []
    },
    {
      "cell_type": "code",
      "source": [
        "colombia"
      ],
      "metadata": {
        "id": "d3xA2gv51RR1"
      },
      "execution_count": null,
      "outputs": []
    },
    {
      "cell_type": "code",
      "source": [
        "col_dict={'Año':colombia.index.tolist(), 'Inmigrantes':colombia.values.tolist()}"
      ],
      "metadata": {
        "id": "JkO9MZBB1RPo"
      },
      "execution_count": null,
      "outputs": []
    },
    {
      "cell_type": "code",
      "source": [
        "col_dict"
      ],
      "metadata": {
        "id": "t8QhCG831RGY"
      },
      "execution_count": null,
      "outputs": []
    },
    {
      "cell_type": "code",
      "source": [
        "datos_col = pd.DataFrame(col_dict)"
      ],
      "metadata": {
        "id": "DG82iQzm94_B"
      },
      "execution_count": null,
      "outputs": []
    },
    {
      "cell_type": "code",
      "source": [
        "datos_col.tail()"
      ],
      "metadata": {
        "id": "AXNYKzuQ947L"
      },
      "execution_count": null,
      "outputs": []
    },
    {
      "cell_type": "code",
      "source": [
        "import matplotlib.pyplot as plt"
      ],
      "metadata": {
        "id": "ohIbZ7UA9440"
      },
      "execution_count": null,
      "outputs": []
    },
    {
      "cell_type": "code",
      "source": [
        "plt.figure(figsize=(8,4))\n",
        "plt.plot(datos_col['Año'], datos_col['Inmigrantes']);\n",
        "plt.xticks(['1980', '1985','1990','1995','2000','2005','2010']);\n",
        "plt.xlabel('Año');\n",
        "plt.ylabel('Inmigrantes');\n",
        "plt.title('Inmigrantes de Colombia');\n",
        "\n",
        "plt.show()"
      ],
      "metadata": {
        "id": "NMuOqZQcGW8j"
      },
      "execution_count": null,
      "outputs": []
    },
    {
      "cell_type": "markdown",
      "source": [
        "almacenado en varibles"
      ],
      "metadata": {
        "id": "yvD8RfBx_Jpa"
      }
    },
    {
      "cell_type": "code",
      "source": [
        "fig, ax = plt.subplots(figsize=(8,4))\n",
        "ax.plot(datos_col['Año'], datos_col['Inmigrantes'])\n",
        "ax.xaxis.set_major_locator(plt.MultipleLocator(5))\n",
        "ax.set_title('Inmigrantes de Colombia hacia canada\\n 1980 - 2013')\n",
        "ax.set_xlabel('Año')\n",
        "ax.set_ylabel('Inmigrantes')\n",
        "plt.show()"
      ],
      "metadata": {
        "id": "6g-sOd78GW5M"
      },
      "execution_count": null,
      "outputs": []
    },
    {
      "cell_type": "markdown",
      "source": [
        "creando subplots en una direccion"
      ],
      "metadata": {
        "id": "CiA_nV97HOlM"
      }
    },
    {
      "cell_type": "code",
      "source": [
        "fig, axs = plt.subplots(1, 2, figsize=(10,3))\n",
        "axs[0].plot(datos_col['Año'], datos_col['Inmigrantes'])\n",
        "axs[0].set_title('Inmigrantes de Colombia hacia canada\\n 1980 - 2013')\n",
        "axs[0].set_xlabel('Año')\n",
        "axs[0].set_ylabel('Inmigrantes')\n",
        "axs[0].xaxis.set_major_locator(plt.MultipleLocator(5))\n",
        "axs[0].grid()\n",
        "axs[1].boxplot(datos_col['Inmigrantes'])\n",
        "axs[1].set_title('Boxplot de la Migrantes Colombianos hacia canada\\n 1980 - 2013')\n",
        "axs[1].set_ylabel('Numero de Inmigrantes')\n",
        "axs[1].set_xlabel('Colombia')\n",
        "axs[1].grid()\n",
        "plt.show()"
      ],
      "metadata": {
        "id": "sx_mU6JJGW2W"
      },
      "execution_count": null,
      "outputs": []
    },
    {
      "cell_type": "code",
      "source": [
        "datos_col.describe()"
      ],
      "metadata": {
        "id": "LJv68O00SGe3"
      },
      "execution_count": null,
      "outputs": []
    },
    {
      "cell_type": "markdown",
      "source": [
        "creando dos subplots en dos direcciones"
      ],
      "metadata": {
        "id": "Fg823vmabqtM"
      }
    },
    {
      "cell_type": "code",
      "source": [
        "fig, axs = plt.subplots(2, 2, figsize=(10,6));\n",
        "fig.subplots_adjust(hspace=0.5,wspace=0.3)\n",
        "axs[0,0].plot(df.loc['Colombia', anos])\n",
        "axs[0,0].set_title('Colombia')\n",
        "axs[0,1].plot(df.loc['Brasil', anos])\n",
        "axs[0,1].set_title('Brasil')\n",
        "axs[1,0].plot(df.loc['Argentina', anos])\n",
        "axs[1,0].set_title('Argentina')\n",
        "axs[1,1].plot(df.loc['Perú', anos])\n",
        "axs[1,1].set_title('Perú')\n",
        "ymin=0;\n",
        "ymax=7000;\n",
        "for ax in axs.ravel():\n",
        "  ax.set_ylim(ymin,ymax)\n",
        "\n",
        "for ax in axs.flat:\n",
        "    ax.set(xlabel='Año', ylabel='Inmigrantes')\n",
        "    ax.xaxis.set_major_locator(plt.MultipleLocator(5))\n",
        "    ax.grid()\n",
        "plt.show()\n"
      ],
      "metadata": {
        "id": "_wV--CMUGWzn"
      },
      "execution_count": null,
      "outputs": []
    },
    {
      "cell_type": "markdown",
      "source": [
        "personalizacion de grafica"
      ],
      "metadata": {
        "id": "q5y2_32La6Iu"
      }
    },
    {
      "cell_type": "code",
      "source": [
        "with plt.style.context('fivethirtyeight'):\n",
        "  fig, ax = plt.subplots(figsize=(8,3))\n",
        "  ax.plot(datos_col['Año'], datos_col['Inmigrantes'], lw=2)\n",
        "  ax.xaxis.set_major_locator(plt.MultipleLocator(5))\n",
        "  ax.set_title('Inmigrantes de Colombia hacia canada\\n 1980 - 2013', fontsize=18, loc='left')\n",
        "  ax.set_xlabel('Año', fontsize=14)\n",
        "  ax.set_ylabel('Inmigrantes', fontsize=14)\n",
        "  ax.yaxis.set_tick_params(labelsize=12)\n",
        "  ax.xaxis.set_tick_params(labelsize=12)\n",
        "\n",
        "  plt.show()"
      ],
      "metadata": {
        "id": "Towcy8_pGWw9",
        "colab": {
          "base_uri": "https://localhost:8080/",
          "height": 382
        },
        "outputId": "1b85bd29-38bc-4091-cf90-82dd285c5246"
      },
      "execution_count": 46,
      "outputs": [
        {
          "output_type": "display_data",
          "data": {
            "text/plain": [
              "<Figure size 800x300 with 1 Axes>"
            ],
            "image/png": "[encoded data removed]"
          },
          "metadata": {}
        }
      ]
    },
    {
      "cell_type": "code",
      "source": [
        "plt.style.use('default')\n",
        "fig, ax = plt.subplots(figsize=(8,3))\n",
        "ax.plot(datos_col['Año'], datos_col['Inmigrantes'], lw=2, marker='o')\n",
        "ax.xaxis.set_major_locator(plt.MultipleLocator(5))\n",
        "ax.set_title('Inmigrantes de Colombia hacia canada\\n 1980 - 2013', fontsize=18, loc='left')\n",
        "ax.set_xlabel('Año', fontsize=14)\n",
        "ax.set_ylabel('Inmigrantes', fontsize=14)\n",
        "ax.yaxis.set_tick_params(labelsize=12)\n",
        "ax.xaxis.set_tick_params(labelsize=12)\n",
        "ax.grid();\n",
        "plt.show()"
      ],
      "metadata": {
        "id": "BZu2v4izGWmU",
        "colab": {
          "base_uri": "https://localhost:8080/",
          "height": 375
        },
        "outputId": "29c96c9f-417a-4386-c7b9-f5b5528f359f"
      },
      "execution_count": 44,
      "outputs": [
        {
          "output_type": "display_data",
          "data": {
            "text/plain": [
              "<Figure size 800x300 with 1 Axes>"
            ],
            "image/png": "[encoded data removed]"
          },
          "metadata": {}
        }
      ]
    },
    {
      "cell_type": "markdown",
      "source": [
        "alterando colores #1"
      ],
      "metadata": {
        "id": "DcVRLffRmg3_"
      }
    },
    {
      "cell_type": "code",
      "source": [],
      "metadata": {
        "id": "mksYgU-G942e"
      },
      "execution_count": null,
      "outputs": []
    },
    {
      "cell_type": "code",
      "source": [],
      "metadata": {
        "id": "Odgd1hncmdKc"
      },
      "execution_count": null,
      "outputs": []
    },
    {
      "cell_type": "code",
      "source": [],
      "metadata": {
        "id": "AKF7cNaJmdIn"
      },
      "execution_count": null,
      "outputs": []
    },
    {
      "cell_type": "code",
      "source": [],
      "metadata": {
        "id": "reBPQvSWmdGZ"
      },
      "execution_count": null,
      "outputs": []
    },
    {
      "cell_type": "code",
      "source": [],
      "metadata": {
        "id": "6HrFITQkmdCa"
      },
      "execution_count": null,
      "outputs": []
    },
    {
      "cell_type": "code",
      "source": [],
      "metadata": {
        "id": "XEIFmSf5mc-c"
      },
      "execution_count": null,
      "outputs": []
    },
    {
      "cell_type": "code",
      "source": [],
      "metadata": {
        "id": "503dETRhmc7c"
      },
      "execution_count": null,
      "outputs": []
    },
    {
      "cell_type": "code",
      "source": [],
      "metadata": {
        "id": "uapMkJlomc4p"
      },
      "execution_count": null,
      "outputs": []
    },
    {
      "cell_type": "code",
      "source": [],
      "metadata": {
        "id": "6oZDKtOLmc1l"
      },
      "execution_count": null,
      "outputs": []
    },
    {
      "cell_type": "code",
      "source": [],
      "metadata": {
        "id": "1fTIw5lbmczW"
      },
      "execution_count": null,
      "outputs": []
    },
    {
      "cell_type": "code",
      "source": [],
      "metadata": {
        "id": "e_39QU_Fmcwh"
      },
      "execution_count": null,
      "outputs": []
    },
    {
      "cell_type": "code",
      "source": [],
      "metadata": {
        "id": "WYtPBhJlmct6"
      },
      "execution_count": null,
      "outputs": []
    },
    {
      "cell_type": "code",
      "source": [],
      "metadata": {
        "id": "dqgAcPDJmcrk"
      },
      "execution_count": null,
      "outputs": []
    },
    {
      "cell_type": "code",
      "source": [],
      "metadata": {
        "id": "ok983lGEmco9"
      },
      "execution_count": null,
      "outputs": []
    }
  ]
}